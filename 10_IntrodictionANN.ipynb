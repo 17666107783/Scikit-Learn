{
 "cells": [
  {
   "cell_type": "markdown",
   "metadata": {},
   "source": [
    "# **Chapter 10 – Introduction to Artificial Neural Networks**"
   ]
  },
  {
   "cell_type": "code",
   "execution_count": 1,
   "metadata": {
    "collapsed": true
   },
   "outputs": [],
   "source": [
    "# To support both python 2 and python 3\n",
    "from __future__ import division, print_function, unicode_literals\n",
    "\n",
    "# Common imports\n",
    "import numpy as np\n",
    "import os\n",
    "\n",
    "# to make this notebook's output stable across runs\n",
    "def reset_graph(seed=42):\n",
    "    tf.reset_default_graph()\n",
    "    tf.set_random_seed(seed)\n",
    "    np.random.seed(seed)\n",
    "\n",
    "# To plot pretty figures\n",
    "%matplotlib inline\n",
    "import matplotlib\n",
    "import matplotlib.pyplot as plt\n",
    "plt.rcParams['axes.labelsize'] = 14\n",
    "plt.rcParams['xtick.labelsize'] = 12\n",
    "plt.rcParams['ytick.labelsize'] = 12\n",
    "\n",
    "# Where to save the figures\n",
    "PROJECT_ROOT_DIR = \".\"\n",
    "CHAPTER_ID = \"ann\"\n",
    "\n",
    "def save_fig(fig_id, tight_layout=True):\n",
    "    path = os.path.join(PROJECT_ROOT_DIR, \"images\", CHAPTER_ID, fig_id + \".png\")\n",
    "    print(\"Saving figure\", fig_id)\n",
    "    if tight_layout:\n",
    "        plt.tight_layout()\n",
    "    plt.savefig(path, format='png', dpi=300)"
   ]
  },
  {
   "cell_type": "markdown",
   "metadata": {},
   "source": [
    "# Perceptron\n",
    "### Sciket-learn提供单一LTU（线性阈值单元）网络"
   ]
  },
  {
   "cell_type": "code",
   "execution_count": 2,
   "metadata": {
    "collapsed": false
   },
   "outputs": [
    {
     "name": "stderr",
     "output_type": "stream",
     "text": [
      "H:\\Anaconda3\\lib\\site-packages\\sklearn\\linear_model\\stochastic_gradient.py:144: FutureWarning: max_iter and tol parameters have been added in Perceptron in 0.19. If both are left unset, they default to max_iter=5 and tol=None. If tol is not None, max_iter defaults to max_iter=1000. From 0.21, default max_iter will be 1000, and default tol will be 1e-3.\n",
      "  FutureWarning)\n"
     ]
    },
    {
     "data": {
      "text/plain": [
       "array([1])"
      ]
     },
     "execution_count": 2,
     "metadata": {},
     "output_type": "execute_result"
    }
   ],
   "source": [
    "#感知器学习算法类似于随机梯度下降。事实上，sklearn 的感知器类相当于使用具有以下超参数的 SGD 分类器：\n",
    "#loss=\"perceptron\"，learning_rate=\"constant\"（学习率），eta0=1，penalty=None（无正则化）。\n",
    "\n",
    "#注意，与逻辑斯蒂回归分类器相反，感知机不输出类概率，而是基于硬阈值进行预测。\n",
    "import numpy as np\n",
    "from sklearn.datasets import load_iris\n",
    "from sklearn.linear_model import Perceptron\n",
    "iris=load_iris()\n",
    "X = iris.data[:, (2, 3)] \n",
    "y=(iris.target==0).astype(np.int)#是否Setosa\n",
    "per_clf=Perceptron(random_state=42)\n",
    "per_clf.fit(X,y)\n",
    "y_pred=per_clf.predict([[2,0.5]])      #输入必须是二位数组  [[x1,x2]]\n",
    "y_pred"
   ]
  },
  {
   "cell_type": "code",
   "execution_count": 12,
   "metadata": {
    "collapsed": false
   },
   "outputs": [
    {
     "name": "stdout",
     "output_type": "stream",
     "text": [
      "[[ 1.1  1.2]]\n",
      "[ 3.]\n"
     ]
    }
   ],
   "source": [
    "#  g(x) = w1x1 + w2x2 + w0\n",
    "print(-per_clf.coef_)\n",
    "print(per_clf.intercept_)"
   ]
  },
  {
   "cell_type": "code",
   "execution_count": 34,
   "metadata": {
    "collapsed": false
   },
   "outputs": [
    {
     "name": "stdout",
     "output_type": "stream",
     "text": [
      "(200, 500)\n",
      "(200, 500)\n",
      "(100000,)\n",
      "(100000, 2)\n",
      "(100000,)\n"
     ]
    }
   ],
   "source": [
    "a = -per_clf.coef_[0][0]/per_clf.coef_[0][1]\n",
    "b = -per_clf.intercept_ / per_clf.coef_[0][1]\n",
    "axes=[0,5,0,2]\n",
    "x0,x1=np.meshgrid(\n",
    "    np.linspace(axes[0],axes[1],500).reshape(-1,1),\n",
    "    np.linspace(axes[2],axes[3],200).reshape(-1,1),\n",
    ")\n",
    "print(x0.shape)\n",
    "print(x1.shape)\n",
    "x0#行与行相同，列从0到5\n",
    "x1#列于列相同，行从0到2\n",
    "X_new = np.c_[x0.ravel(), x1.ravel()]#ravel变成一列，再按列合并\n",
    "print(x1.ravel().shape)\n",
    "print(X_new.shape)\n",
    "X_new\n",
    "y_predict=per_clf.predict(X_new)\n",
    "print(y_predict.shape)             #100000*1\n",
    "zz=y_predict.reshape(x0.shape)     #200*500"
   ]
  },
  {
   "cell_type": "code",
   "execution_count": 35,
   "metadata": {
    "collapsed": false
   },
   "outputs": [
    {
     "name": "stdout",
     "output_type": "stream",
     "text": [
      "Saving figure perceptron_iris_plot\n"
     ]
    },
    {
     "data": {
      "image/png": "[encoded data removed]",
      "text/plain": [
       "<matplotlib.figure.Figure at 0x22d2baeae10>"
      ]
     },
     "metadata": {},
     "output_type": "display_data"
    }
   ],
   "source": [
    "plt.figure(figsize=(10, 4))\n",
    "plt.plot(X[y==0, 0], X[y==0, 1], \"bs\", label=\"Not Iris-Setosa\")\n",
    "plt.plot(X[y==1, 0], X[y==1, 1], \"yo\", label=\"Iris-Setosa\")\n",
    "\n",
    "plt.plot([axes[0], axes[1]], [a * axes[0] + b, a * axes[1] + b], \"k-\", linewidth=3)\n",
    "from matplotlib.colors import ListedColormap\n",
    "custom_cmap = ListedColormap(['#9898ff', '#fafab0'])\n",
    "\n",
    "plt.contourf(x0, x1, zz, cmap=custom_cmap)\n",
    "plt.xlabel(\"Petal length\", fontsize=14)\n",
    "plt.ylabel(\"Petal width\", fontsize=14)\n",
    "plt.legend(loc=\"lower right\", fontsize=14)\n",
    "plt.axis(axes)\n",
    "\n",
    "save_fig(\"perceptron_iris_plot\")\n",
    "plt.show()"
   ]
  },
  {
   "cell_type": "markdown",
   "metadata": {},
   "source": [
    "# Activation functions"
   ]
  },
  {
   "cell_type": "code",
   "execution_count": 3,
   "metadata": {
    "collapsed": false
   },
   "outputs": [
    {
     "name": "stdout",
     "output_type": "stream",
     "text": [
      "Saving figure activation_functions_plot\n"
     ]
    },
    {
     "data": {
      "image/png": "[encoded data removed]",
      "text/plain": [
       "<matplotlib.figure.Figure at 0x1fdabfc7710>"
      ]
     },
     "metadata": {},
     "output_type": "display_data"
    }
   ],
   "source": [
    "def sigmoid(z):\n",
    "    return 1 / (1 + np.exp(-z))\n",
    "\n",
    "def relu(z):\n",
    "    return np.maximum(0, z)\n",
    "\n",
    "def derivative(f, z, eps=0.000001):\n",
    "    return (f(z + eps) - f(z - eps))/(2 * eps)\n",
    "\n",
    "z = np.linspace(-5, 5, 200)\n",
    "\n",
    "plt.figure(figsize=(11,4))\n",
    "\n",
    "plt.subplot(121)\n",
    "plt.plot(z, np.sign(z), \"r-\", linewidth=1, label=\"Step\")\n",
    "plt.plot(z, sigmoid(z), \"g--\", linewidth=2, label=\"Sigmoid\")\n",
    "plt.plot(z, np.tanh(z), \"b-\", linewidth=2, label=\"Tanh\")\n",
    "plt.plot(z, relu(z), \"m-.\", linewidth=2, label=\"ReLU\")\n",
    "plt.grid(True)\n",
    "plt.legend(loc=\"center right\", fontsize=14)\n",
    "plt.title(\"Activation functions\", fontsize=14)\n",
    "plt.axis([-5, 5, -1.2, 1.2])\n",
    "\n",
    "plt.subplot(122)\n",
    "plt.plot(z, derivative(np.sign, z), \"r-\", linewidth=1, label=\"Step\")\n",
    "plt.plot(0, 0, \"ro\", markersize=5)\n",
    "plt.plot(0, 0, \"rx\", markersize=10)\n",
    "plt.plot(z, derivative(sigmoid, z), \"g--\", linewidth=2, label=\"Sigmoid\")\n",
    "plt.plot(z, derivative(np.tanh, z), \"b-\", linewidth=2, label=\"Tanh\")\n",
    "plt.plot(z, derivative(relu, z), \"m-.\", linewidth=2, label=\"ReLU\")\n",
    "plt.grid(True)\n",
    "#plt.legend(loc=\"center right\", fontsize=14)\n",
    "plt.title(\"Derivatives\", fontsize=14)\n",
    "plt.axis([-5, 5, -0.2, 1.2])\n",
    "\n",
    "save_fig(\"activation_functions_plot\")\n",
    "plt.show()"
   ]
  },
  {
   "cell_type": "markdown",
   "metadata": {},
   "source": [
    "# FNN for MNIST\n",
    "## Using the Estimator API (formerly tf.contrib.learn)\n",
    "\n",
    "Warning: tf.examples.tutorials.mnist is deprecated. We will use tf.keras.datasets.mnist instead. Moreover, the tf.contrib.learn API was promoted to tf.estimators and tf.feature_columns, and it has changed considerably. In particular, there is no infer_real_valued_columns_from_input() function or SKCompat class."
   ]
  },
  {
   "cell_type": "code",
   "execution_count": 4,
   "metadata": {
    "collapsed": false
   },
   "outputs": [],
   "source": [
    "import tensorflow as tf\n",
    "(X_train,y_train),(X_test,y_test)=tf.keras.datasets.mnist.load_data()"
   ]
  },
  {
   "cell_type": "code",
   "execution_count": 5,
   "metadata": {
    "collapsed": false
   },
   "outputs": [
    {
     "name": "stdout",
     "output_type": "stream",
     "text": [
      "(60000, 784)\n"
     ]
    }
   ],
   "source": [
    "X_train=X_train.astype(np.float32).reshape(-1,28*28)/255.0\n",
    "print(X_train.shape)\n",
    "X_test=X_test.astype(np.float32).reshape(-1,28*28)/255.0\n",
    "y_train=y_train.astype(np.int32)\n",
    "y_test=y_test.astype(np.int32)\n",
    "X_valid,X_train=X_train[:5000],X_train[5000:]\n",
    "y_valid,y_train=y_train[:5000],y_train[5000:]"
   ]
  },
  {
   "cell_type": "code",
   "execution_count": 56,
   "metadata": {
    "collapsed": false,
    "scrolled": true
   },
   "outputs": [
    {
     "name": "stdout",
     "output_type": "stream",
     "text": [
      "INFO:tensorflow:Using default config.\n",
      "INFO:tensorflow:Using config: {'_global_id_in_cluster': 0, '_task_id': 0, '_save_checkpoints_secs': 600, '_cluster_spec': <tensorflow.python.training.server_lib.ClusterSpec object at 0x0000022D32260080>, '_log_step_count_steps': 100, '_keep_checkpoint_every_n_hours': 10000, '_session_config': None, '_tf_random_seed': None, '_num_worker_replicas': 1, '_evaluation_master': '', '_device_fn': None, '_is_chief': True, '_num_ps_replicas': 0, '_task_type': 'worker', '_service': None, '_train_distribute': None, '_master': '', '_save_checkpoints_steps': None, '_model_dir': './model', '_save_summary_steps': 100, '_keep_checkpoint_max': 5}\n",
      "INFO:tensorflow:Calling model_fn.\n",
      "INFO:tensorflow:Done calling model_fn.\n",
      "INFO:tensorflow:Create CheckpointSaverHook.\n",
      "INFO:tensorflow:Graph was finalized.\n",
      "INFO:tensorflow:Running local_init_op.\n",
      "INFO:tensorflow:Done running local_init_op.\n",
      "INFO:tensorflow:Saving checkpoints for 0 into ./model\\model.ckpt.\n",
      "INFO:tensorflow:loss = 116.29, step = 1\n",
      "INFO:tensorflow:global_step/sec: 120.547\n",
      "INFO:tensorflow:loss = 29.4961, step = 101 (0.833 sec)\n",
      "INFO:tensorflow:global_step/sec: 146.315\n",
      "INFO:tensorflow:loss = 4.28604, step = 201 (0.682 sec)\n",
      "INFO:tensorflow:global_step/sec: 149.154\n",
      "INFO:tensorflow:loss = 5.82933, step = 301 (0.669 sec)\n",
      "INFO:tensorflow:global_step/sec: 150.729\n",
      "INFO:tensorflow:loss = 10.5181, step = 401 (0.663 sec)\n",
      "INFO:tensorflow:global_step/sec: 150.502\n",
      "INFO:tensorflow:loss = 20.5823, step = 501 (0.665 sec)\n",
      "INFO:tensorflow:global_step/sec: 93.3957\n",
      "INFO:tensorflow:loss = 6.78256, step = 601 (1.071 sec)\n",
      "INFO:tensorflow:global_step/sec: 136.149\n",
      "INFO:tensorflow:loss = 5.807, step = 701 (0.734 sec)\n",
      "INFO:tensorflow:global_step/sec: 143.583\n",
      "INFO:tensorflow:loss = 10.1037, step = 801 (0.697 sec)\n",
      "INFO:tensorflow:global_step/sec: 141.348\n",
      "INFO:tensorflow:loss = 0.452103, step = 901 (0.705 sec)\n",
      "INFO:tensorflow:global_step/sec: 101.765\n",
      "INFO:tensorflow:loss = 8.27747, step = 1001 (0.984 sec)\n",
      "INFO:tensorflow:global_step/sec: 93.9223\n",
      "INFO:tensorflow:loss = 5.01716, step = 1101 (1.065 sec)\n",
      "INFO:tensorflow:global_step/sec: 139.377\n",
      "INFO:tensorflow:loss = 12.5796, step = 1201 (0.717 sec)\n",
      "INFO:tensorflow:global_step/sec: 139.377\n",
      "INFO:tensorflow:loss = 9.47096, step = 1301 (0.717 sec)\n",
      "INFO:tensorflow:global_step/sec: 118.124\n",
      "INFO:tensorflow:loss = 0.919728, step = 1401 (0.847 sec)\n",
      "INFO:tensorflow:global_step/sec: 84.0487\n",
      "INFO:tensorflow:loss = 2.59272, step = 1501 (1.189 sec)\n",
      "INFO:tensorflow:global_step/sec: 142.153\n",
      "INFO:tensorflow:loss = 0.793691, step = 1601 (0.704 sec)\n",
      "INFO:tensorflow:global_step/sec: 134.319\n",
      "INFO:tensorflow:loss = 4.91359, step = 1701 (0.744 sec)\n",
      "INFO:tensorflow:global_step/sec: 111.907\n",
      "INFO:tensorflow:loss = 2.12746, step = 1801 (0.895 sec)\n",
      "INFO:tensorflow:global_step/sec: 138.412\n",
      "INFO:tensorflow:loss = 3.54629, step = 1901 (0.720 sec)\n",
      "INFO:tensorflow:global_step/sec: 97.7824\n",
      "INFO:tensorflow:loss = 7.77038, step = 2001 (1.023 sec)\n",
      "INFO:tensorflow:global_step/sec: 129.615\n",
      "INFO:tensorflow:loss = 0.432355, step = 2101 (0.773 sec)\n",
      "INFO:tensorflow:global_step/sec: 145.464\n",
      "INFO:tensorflow:loss = 3.38607, step = 2201 (0.687 sec)\n",
      "INFO:tensorflow:global_step/sec: 139.963\n",
      "INFO:tensorflow:loss = 3.38508, step = 2301 (0.714 sec)\n",
      "INFO:tensorflow:global_step/sec: 79.0613\n",
      "INFO:tensorflow:loss = 10.5693, step = 2401 (1.264 sec)\n",
      "INFO:tensorflow:global_step/sec: 148.489\n",
      "INFO:tensorflow:loss = 3.62608, step = 2501 (0.673 sec)\n",
      "INFO:tensorflow:global_step/sec: 146.961\n",
      "INFO:tensorflow:loss = 7.10894, step = 2601 (0.680 sec)\n",
      "INFO:tensorflow:global_step/sec: 148.049\n",
      "INFO:tensorflow:loss = 5.25833, step = 2701 (0.676 sec)\n",
      "INFO:tensorflow:global_step/sec: 149.155\n",
      "INFO:tensorflow:loss = 2.21832, step = 2801 (0.669 sec)\n",
      "INFO:tensorflow:global_step/sec: 138.99\n",
      "INFO:tensorflow:loss = 0.406989, step = 2901 (0.720 sec)\n",
      "INFO:tensorflow:Saving checkpoints for 3000 into ./model\\model.ckpt.\n",
      "INFO:tensorflow:Loss for final step: 3.54093.\n"
     ]
    },
    {
     "data": {
      "text/plain": [
       "<tensorflow.python.estimator.canned.dnn.DNNClassifier at 0x22d32260160>"
      ]
     },
     "execution_count": 56,
     "metadata": {},
     "output_type": "execute_result"
    }
   ],
   "source": [
    "feature_cols=[tf.feature_column.numeric_column(\"X\",shape=[28*28])]\n",
    "dnn_clf=tf.estimator.DNNClassifier(hidden_units=[300,100],n_classes=10,feature_columns=feature_cols,model_dir=\"./model\")\n",
    "input_fn=tf.estimator.inputs.numpy_input_fn(\n",
    "    x={\"X\":X_train},y=y_train,num_epochs=10,batch_size=50,shuffle=True)\n",
    "dnn_clf.train(input_fn=input_fn,steps=3000)"
   ]
  },
  {
   "cell_type": "code",
   "execution_count": 52,
   "metadata": {
    "collapsed": false
   },
   "outputs": [
    {
     "data": {
      "text/plain": [
       "[_NumericColumn(key='X', shape=(784,), default_value=None, dtype=tf.float32, normalizer_fn=None)]"
      ]
     },
     "execution_count": 52,
     "metadata": {},
     "output_type": "execute_result"
    }
   ],
   "source": [
    "feature_cols"
   ]
  },
  {
   "cell_type": "code",
   "execution_count": 53,
   "metadata": {
    "collapsed": false
   },
   "outputs": [
    {
     "data": {
      "text/plain": [
       "<function tensorflow.python.estimator.inputs.numpy_io.numpy_input_fn.<locals>.input_fn>"
      ]
     },
     "execution_count": 53,
     "metadata": {},
     "output_type": "execute_result"
    }
   ],
   "source": [
    "input_fn"
   ]
  },
  {
   "cell_type": "code",
   "execution_count": 57,
   "metadata": {
    "collapsed": false
   },
   "outputs": [
    {
     "name": "stdout",
     "output_type": "stream",
     "text": [
      "INFO:tensorflow:Calling model_fn.\n",
      "INFO:tensorflow:Done calling model_fn.\n",
      "INFO:tensorflow:Starting evaluation at 2019-03-22-07:19:19\n",
      "INFO:tensorflow:Graph was finalized.\n",
      "INFO:tensorflow:Restoring parameters from ./model\\model.ckpt-3000\n",
      "INFO:tensorflow:Running local_init_op.\n",
      "INFO:tensorflow:Done running local_init_op.\n",
      "INFO:tensorflow:Finished evaluation at 2019-03-22-07:19:20\n",
      "INFO:tensorflow:Saving dict for global step 3000: accuracy = 0.9715, average_loss = 0.0883222, global_step = 3000, loss = 11.18\n",
      "INFO:tensorflow:Saving 'checkpoint_path' summary for global step 3000: ./model\\model.ckpt-3000\n"
     ]
    },
    {
     "data": {
      "text/plain": [
       "{'accuracy': 0.97149998,\n",
       " 'average_loss': 0.088322207,\n",
       " 'global_step': 3000,\n",
       " 'loss': 11.180026}"
      ]
     },
     "execution_count": 57,
     "metadata": {},
     "output_type": "execute_result"
    }
   ],
   "source": [
    "#评估\n",
    "test_input_fn = tf.estimator.inputs.numpy_input_fn(\n",
    "    x={\"X\": X_test}, y=y_test, shuffle=False)\n",
    "eval_results = dnn_clf.evaluate(input_fn=test_input_fn)\n",
    "eval_results"
   ]
  },
  {
   "cell_type": "code",
   "execution_count": 65,
   "metadata": {
    "collapsed": false
   },
   "outputs": [
    {
     "name": "stdout",
     "output_type": "stream",
     "text": [
      "<generator object Estimator.predict at 0x0000022D336F3A40>\n",
      "INFO:tensorflow:Calling model_fn.\n",
      "INFO:tensorflow:Done calling model_fn.\n",
      "INFO:tensorflow:Graph was finalized.\n",
      "INFO:tensorflow:Restoring parameters from ./model\\model.ckpt-3000\n",
      "INFO:tensorflow:Running local_init_op.\n",
      "INFO:tensorflow:Done running local_init_op.\n"
     ]
    },
    {
     "data": {
      "text/plain": [
       "{'class_ids': array([7], dtype=int64),\n",
       " 'classes': array([b'7'], dtype=object),\n",
       " 'logits': array([ -2.46318269,   2.36777997,   3.98597622,   6.19021463,\n",
       "         -4.20734835,  -0.08614571,  -7.64557505,  14.47827625,\n",
       "          1.67203224,   3.9740057 ], dtype=float32),\n",
       " 'probabilities': array([  4.38814105e-08,   5.49972810e-06,   2.77405488e-05,\n",
       "          2.51422316e-04,   7.67006725e-09,   4.72732097e-07,\n",
       "          2.46374809e-10,   9.99684691e-01,   2.74272315e-06,\n",
       "          2.74104586e-05], dtype=float32)}"
      ]
     },
     "execution_count": 65,
     "metadata": {},
     "output_type": "execute_result"
    }
   ],
   "source": [
    "#预测\n",
    "y_pred_iter = dnn_clf.predict(input_fn=test_input_fn)\n",
    "#y_pred_iter生成器是一个与list非常相似的python对象。如果你迭代它（或明确使用list（pred_result））你将得到它的项目\n",
    "\n",
    "print(y_pred_iter)#这样是不行的\n",
    "\n",
    "y_pred = list(y_pred_iter)   #list() 方法用于将其转换为列表。\n",
    "y_pred[0]"
   ]
  },
  {
   "cell_type": "markdown",
   "metadata": {},
   "source": [
    "# Using plain TensorFlow\n",
    "## 构建阶段"
   ]
  },
  {
   "cell_type": "code",
   "execution_count": 6,
   "metadata": {
    "collapsed": true
   },
   "outputs": [],
   "source": [
    "from datetime import datetime\n",
    "\n",
    "now = datetime.utcnow().strftime(\"%Y%m%d%H%M%S\")\n",
    "root_logdir = \"tf_logs\"\n",
    "logdir = \"{}/run-{}/\".format(root_logdir, now)"
   ]
  },
  {
   "cell_type": "code",
   "execution_count": 7,
   "metadata": {
    "collapsed": false
   },
   "outputs": [],
   "source": [
    "import tensorflow as tf\n",
    "#指定输入和输出的数量，并设置每个层中隐藏的神经元数量\n",
    "n_inputs=28*28\n",
    "n_hidden1=300\n",
    "n_hidden2=100\n",
    "n_outputs=10\n",
    "\n",
    "tf.reset_default_graph()\n",
    "#使用占位符节点来表示训练数据和目标\n",
    "X=tf.placeholder(tf.float32,shape=(None,n_inputs),name=\"X\")\n",
    "y=tf.placeholder(tf.int32,shape=(None),name=\"y\")\n",
    "\n",
    "#创建一个图层\n",
    "def neuron_layer(X,n_neurons,name,activation=None):\n",
    "    with tf.name_scope(name):\n",
    "        n_inputs=int(X.get_shape()[1])#烈数，特征数\n",
    "        stddev=2/np.sqrt(n_inputs)\n",
    "        init=tf.truncated_normal((n_inputs,n_neurons),stddev=stddev)\n",
    "        W=tf.Variable(init,name=\"weights\")\n",
    "        b=tf.Variable(tf.zeros([n_neurons]),name=\"biases\")\n",
    "        z=tf.matmul(X,W)+b\n",
    "        if activation==\"relu\":\n",
    "            return tf.nn.relu(z)\n",
    "        else:\n",
    "            return z\n",
    "\n",
    "#调用函数来创建深层神经网络        \n",
    "with tf.name_scope(\"dnn\"):\n",
    "    hidden1=neuron_layer(X,n_hidden1,\"hidden1\",activation=\"relu\")\n",
    "    hidden2=neuron_layer(hidden1,n_hidden2,\"hidden2\",activation=\"relu\")\n",
    "    logits=neuron_layer(hidden2,n_outputs,\"output\")\n",
    "\n",
    "#定义我们用来训练的损失函数。我们将使用交叉熵。交叉熵将惩罚估计目标类的概率较低的模型\n",
    "with tf.name_scope(\"loss\"):\n",
    "    xentropy=tf.nn.sparse_softmax_cross_entropy_with_logits(labels=y,logits=logits)\n",
    "    loss=tf.reduce_mean(xentropy,name=\"loss\")\n",
    "    \n",
    "#定义一个GradientDescentOptimizer来调整模型参数以最小化损失函数。\n",
    "learning_rate=0.01\n",
    "with tf.name_scope(\"train\"):\n",
    "    optimizer=tf.train.GradientDescentOptimizer(learning_rate)\n",
    "    training_op=optimizer.minimize(loss)\n",
    "    \n",
    "#指定如何评估模型。 我们将简单地将精度用作我们的绩效指标\n",
    "with tf.name_scope(\"eval\"):\n",
    "    correct=tf.nn.in_top_k(logits,y,1)  #计算预测的结果和实际结果的是否相等，返回一个bool类型的张量\n",
    "    accuracy=tf.reduce_mean(tf.cast(correct,tf.float32))   "
   ]
  },
  {
   "cell_type": "code",
   "execution_count": 8,
   "metadata": {
    "collapsed": true
   },
   "outputs": [],
   "source": [
    "#创建一个初始化所有变量的节点，创建一个Saver来将我们训练有素的模型参数保存\n",
    "init=tf.global_variables_initializer()\n",
    "saver=tf.train.Saver()"
   ]
  },
  {
   "cell_type": "code",
   "execution_count": 10,
   "metadata": {
    "collapsed": false
   },
   "outputs": [],
   "source": [
    "#放在构造期的最后，用于tensorBoard可视化\n",
    "loss_summary = tf.summary.scalar('Loss', loss)\n",
    "file_writer = tf.summary.FileWriter(logdir, tf.get_default_graph())"
   ]
  },
  {
   "cell_type": "markdown",
   "metadata": {},
   "source": [
    "## 执行阶段"
   ]
  },
  {
   "cell_type": "code",
   "execution_count": 11,
   "metadata": {
    "collapsed": true
   },
   "outputs": [],
   "source": [
    "def shuffle_batch(X, y, batch_size):\n",
    "    rnd_idx = np.random.permutation(len(X)) #随机排列一个数组\n",
    "    n_batches = len(X) // batch_size\n",
    "    for batch_idx in np.array_split(rnd_idx, n_batches):#把rnd_idx分为n_batches份，不均等分割\n",
    "        X_batch, y_batch = X[batch_idx], y[batch_idx]\n",
    "        yield X_batch, y_batch"
   ]
  },
  {
   "cell_type": "code",
   "execution_count": 1,
   "metadata": {
    "collapsed": false
   },
   "outputs": [
    {
     "ename": "NameError",
     "evalue": "name 'tf' is not defined",
     "output_type": "error",
     "traceback": [
      "\u001b[0;31m---------------------------------------------------------------------------\u001b[0m",
      "\u001b[0;31mNameError\u001b[0m                                 Traceback (most recent call last)",
      "\u001b[0;32m<ipython-input-1-411f6dc48679>\u001b[0m in \u001b[0;36m<module>\u001b[0;34m()\u001b[0m\n\u001b[1;32m      1\u001b[0m \u001b[0mn_epochs\u001b[0m\u001b[1;33m=\u001b[0m\u001b[1;36m10\u001b[0m\u001b[1;33m;\u001b[0m\u001b[1;33m\u001b[0m\u001b[0m\n\u001b[1;32m      2\u001b[0m \u001b[0mbatch_size\u001b[0m\u001b[1;33m=\u001b[0m\u001b[1;36m50\u001b[0m\u001b[1;33m\u001b[0m\u001b[0m\n\u001b[0;32m----> 3\u001b[0;31m \u001b[1;32mwith\u001b[0m \u001b[0mtf\u001b[0m\u001b[1;33m.\u001b[0m\u001b[0mSession\u001b[0m\u001b[1;33m(\u001b[0m\u001b[1;33m)\u001b[0m \u001b[1;32mas\u001b[0m \u001b[0msess\u001b[0m\u001b[1;33m:\u001b[0m\u001b[1;33m\u001b[0m\u001b[0m\n\u001b[0m\u001b[1;32m      4\u001b[0m     \u001b[0minit\u001b[0m\u001b[1;33m.\u001b[0m\u001b[0mrun\u001b[0m\u001b[1;33m(\u001b[0m\u001b[1;33m)\u001b[0m\u001b[1;33m\u001b[0m\u001b[0m\n\u001b[1;32m      5\u001b[0m     \u001b[1;32mfor\u001b[0m \u001b[0mepoch\u001b[0m \u001b[1;32min\u001b[0m \u001b[0mrange\u001b[0m\u001b[1;33m(\u001b[0m\u001b[0mn_epochs\u001b[0m\u001b[1;33m)\u001b[0m\u001b[1;33m:\u001b[0m\u001b[1;33m\u001b[0m\u001b[0m\n",
      "\u001b[0;31mNameError\u001b[0m: name 'tf' is not defined"
     ]
    }
   ],
   "source": [
    "n_epochs=10;\n",
    "batch_size=50\n",
    "with tf.Session() as sess:\n",
    "    init.run()\n",
    "    for epoch in range(n_epochs):\n",
    "        for X_batch, y_batch in shuffle_batch(X_train, y_train, batch_size):\n",
    "            \n",
    "            summary_str = loss_summary.eval(feed_dict={X: X_batch, y: y_batch})\n",
    "            file_writer.add_summary(summary_str, epoch)\n",
    "            \n",
    "            \n",
    "            #sess.run(training_op,feed_dict={X:X_batch,y:y_batch})\n",
    "        acc_batch = accuracy.eval(feed_dict={X: X_batch, y: y_batch})\n",
    "        acc_val = accuracy.eval(feed_dict={X: X_valid, y: y_valid})\n",
    "        print(epoch, \"Batch accuracy:\", acc_batch, \"Val accuracy:\", acc_val)\n",
    "    save_path = saver.save(sess, \"./model/my_model_final.ckpt\")"
   ]
  },
  {
   "cell_type": "code",
   "execution_count": 13,
   "metadata": {
    "collapsed": true
   },
   "outputs": [],
   "source": [
    "file_writer.close()"
   ]
  },
  {
   "cell_type": "code",
   "execution_count": 79,
   "metadata": {
    "collapsed": false
   },
   "outputs": [
    {
     "name": "stdout",
     "output_type": "stream",
     "text": [
      "INFO:tensorflow:Restoring parameters from ./my_model_final.ckpt\n"
     ]
    }
   ],
   "source": [
    "#执行预测\n",
    "with tf.Session() as sess:\n",
    "    saver.restore(sess,\"./my_model_final.ckpt\")\n",
    "    X_new_scaled=X_test[:20]\n",
    "    Z=logits.eval(feed_dict={X:X_new_scaled})\n",
    "    y_pred=np.argmax(Z,axis=1)"
   ]
  },
  {
   "cell_type": "code",
   "execution_count": 80,
   "metadata": {
    "collapsed": false
   },
   "outputs": [
    {
     "name": "stdout",
     "output_type": "stream",
     "text": [
      "Predicted classes: [7 2 1 0 4 1 4 9 6 9 0 6 9 0 1 5 9 7 3 4]\n",
      "Actual classes:    [7 2 1 0 4 1 4 9 5 9 0 6 9 0 1 5 9 7 3 4]\n"
     ]
    }
   ],
   "source": [
    "print(\"Predicted classes:\", y_pred)\n",
    "print(\"Actual classes:   \", y_test[:20])"
   ]
  }
 ],
 "metadata": {
  "anaconda-cloud": {},
  "kernelspec": {
   "display_name": "Python [conda env:Anaconda3]",
   "language": "python",
   "name": "conda-env-Anaconda3-py"
  },
  "language_info": {
   "codemirror_mode": {
    "name": "ipython",
    "version": 3
   },
   "file_extension": ".py",
   "mimetype": "text/x-python",
   "name": "python",
   "nbconvert_exporter": "python",
   "pygments_lexer": "ipython3",
   "version": "3.5.2"
  }
 },
 "nbformat": 4,
 "nbformat_minor": 1
}
